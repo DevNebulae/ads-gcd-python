{
 "cells": [
  {
   "cell_type": "code",
   "execution_count": 108,
   "metadata": {
    "collapsed": true
   },
   "outputs": [],
   "source": [
    "import matplotlib.pyplot as plot\n",
    "import numpy as np\n",
    "import pandas as pd\n",
    "import re as re\n",
    "from scipy import stats"
   ]
  },
  {
   "cell_type": "code",
   "execution_count": 109,
   "metadata": {},
   "outputs": [
    {
     "name": "stdout",
     "output_type": "stream",
     "text": [
      "[nan '2012' '2013' 'September 2013' '2013' 'September 2013' '01-09-2012'\n",
      " '2012' '2012' '2013' '2012' 'Two thousend twelve' 'Tilburg' '2013' '2013'\n",
      " '01/09/2012' '2013' '2012' '2013' \"Feb '13\" '2013' '2013' '2012' '2013'\n",
      " '2013' '2012' '3 years ago' '2013' '2013' 'February 2013' '2012' '2013'\n",
      " '2012' '2012' '2012' 'September 2012' '2013' 'Long Time agoo' '2012'\n",
      " 'feb 2012' 'Long Time agoo' '2012' '2013' 'Long Time agoo' '2012' '2013'\n",
      " '2012' 'none' '2012' '2013' '2013' '2 years ago' 'sdfasv' nan nan nan\n",
      " '1111' '2012' '2012' '1321' '2012' 'Trump' 'Fall, 2012' '2013' '2014'\n",
      " '2013' '2013' '2013' '6 years ago' 'September 2013' '2012-2013'\n",
      " 'February of 2014 ' '2012' '4 years ago' '2013' '2013' 'Que duemiladodici'\n",
      " '20' '2012-2013' '2013' '2013' 'September 2013' '2012' '2013' '2011'\n",
      " '2014' '2014' '2013' '2012' '2014' 'In 2013' '2014' '2014'\n",
      " 'September 2013' '2013' '2013' nan '2012' '2012' '2014' '2014' '2014'\n",
      " 'September 2014' '2012' '2012' '2014' '2014' 'September 2014' '09/2014'\n",
      " '2013' 'August 2016' 'September, 2013' '2012' 'Last Week' '2015' '2015'\n",
      " '3 years ago' '2014' 'x' '2015' '3 years ago' '2014'\n",
      " 'too long ago to remember' '2014' '2014' '2015' 'Feb 2014' 'Looong ago'\n",
      " '2013' '2012' 'September 1st 2014' '1 jan 1970' '2014'\n",
      " 'The storm that wipes out the pathetic little thing you call your life. '\n",
      " 'Not' 'STAY AWAY FROM MY CHILDREN' '9/11' '2015' '6969' '2014' '2015'\n",
      " '2014' '2014' 'February 2015' '2015' 'q' '01-09-2013' 'q' '2014'\n",
      " 'Sep 2014' '2014' '2012' '2014' '2017' '2015' 'August 2017' '2014' '2015'\n",
      " '2014' '2014' '28/08/2017' '2014' '2014 volgens mij' '2014' '2013' '2014'\n",
      " '2014' '2014' '2014' '2014' 'September 2015' '2013' '2014' '3 years ago'\n",
      " '2014' 'September 2014' 'IDK' '2014' '2014' '2014' 'IDK' 'not' '2013' nan\n",
      " nan 'hurt' 'https://www.youtube.com/watch?v=dQw4w9WgXcQ' 'do I' 'is'\n",
      " 'bier' '覧断離外' nan nan 'bier']\n"
     ]
    }
   ],
   "source": [
    "matrix = pd.read_csv(\"csv/data-original.csv\", quotechar='\"', skipinitialspace=True).as_matrix()\n",
    "matrix = matrix[:,13]\n",
    "print(matrix)"
   ]
  },
  {
   "cell_type": "markdown",
   "metadata": {},
   "source": [
    "## Preparation\n",
    "\n",
    "To prepare the data for filtering, I remove all `nan` types before running the regular expression on the data."
   ]
  },
  {
   "cell_type": "code",
   "execution_count": 110,
   "metadata": {},
   "outputs": [
    {
     "name": "stdout",
     "output_type": "stream",
     "text": [
      "['2012' '2013' 'September 2013' '2013' 'September 2013' '01-09-2012' '2012'\n",
      " '2012' '2013' '2012' 'Two thousend twelve' 'Tilburg' '2013' '2013'\n",
      " '01/09/2012' '2013' '2012' '2013' \"Feb '13\" '2013' '2013' '2012' '2013'\n",
      " '2013' '2012' '3 years ago' '2013' '2013' 'February 2013' '2012' '2013'\n",
      " '2012' '2012' '2012' 'September 2012' '2013' 'Long Time agoo' '2012'\n",
      " 'feb 2012' 'Long Time agoo' '2012' '2013' 'Long Time agoo' '2012' '2013'\n",
      " '2012' 'none' '2012' '2013' '2013' '2 years ago' 'sdfasv' '1111' '2012'\n",
      " '2012' '1321' '2012' 'Trump' 'Fall, 2012' '2013' '2014' '2013' '2013'\n",
      " '2013' '6 years ago' 'September 2013' '2012-2013' 'February of 2014 '\n",
      " '2012' '4 years ago' '2013' '2013' 'Que duemiladodici' '20' '2012-2013'\n",
      " '2013' '2013' 'September 2013' '2012' '2013' '2011' '2014' '2014' '2013'\n",
      " '2012' '2014' 'In 2013' '2014' '2014' 'September 2013' '2013' '2013'\n",
      " '2012' '2012' '2014' '2014' '2014' 'September 2014' '2012' '2012' '2014'\n",
      " '2014' 'September 2014' '09/2014' '2013' 'August 2016' 'September, 2013'\n",
      " '2012' 'Last Week' '2015' '2015' '3 years ago' '2014' 'x' '2015'\n",
      " '3 years ago' '2014' 'too long ago to remember' '2014' '2014' '2015'\n",
      " 'Feb 2014' 'Looong ago' '2013' '2012' 'September 1st 2014' '1 jan 1970'\n",
      " '2014'\n",
      " 'The storm that wipes out the pathetic little thing you call your life. '\n",
      " 'Not' 'STAY AWAY FROM MY CHILDREN' '9/11' '2015' '6969' '2014' '2015'\n",
      " '2014' '2014' 'February 2015' '2015' 'q' '01-09-2013' 'q' '2014'\n",
      " 'Sep 2014' '2014' '2012' '2014' '2017' '2015' 'August 2017' '2014' '2015'\n",
      " '2014' '2014' '28/08/2017' '2014' '2014 volgens mij' '2014' '2013' '2014'\n",
      " '2014' '2014' '2014' '2014' 'September 2015' '2013' '2014' '3 years ago'\n",
      " '2014' 'September 2014' 'IDK' '2014' '2014' '2014' 'IDK' 'not' '2013'\n",
      " 'hurt' 'https://www.youtube.com/watch?v=dQw4w9WgXcQ' 'do I' 'is' 'bier'\n",
      " '覧断離外' 'bier']\n"
     ]
    }
   ],
   "source": [
    "matrix = matrix[~pd.isnull(matrix)]\n",
    "print(matrix)"
   ]
  },
  {
   "cell_type": "markdown",
   "metadata": {},
   "source": [
    "## Filtering\n",
    "\n",
    "As to filtering, since there are so many people who filled out a normal year, I am going to only filter out numbers which start with 20. I do this, because I am sure that nobody started the education more than 17 years ago and still hasn't finished it. Furthermore, this should filter out all dates which are not relevant such as several hyperlinks or beer jokes."
   ]
  },
  {
   "cell_type": "code",
   "execution_count": 111,
   "metadata": {},
   "outputs": [
    {
     "name": "stdout",
     "output_type": "stream",
     "text": [
      "['2012' '2013' '2013' '2012' '2012' '2013' '2012' '2013' '2013' '2013'\n",
      " '2012' '2013' '2013' '2013' '2012' '2013' '2013' '2012' '2013' '2013'\n",
      " '2012' '2013' '2012' '2012' '2012' '2013' '2012' '2012' '2013' '2012'\n",
      " '2013' '2012' '2012' '2013' '2013' '2012' '2012' '2012' '2013' '2014'\n",
      " '2013' '2013' '2013' '2012-2013' '2012' '2013' '2013' '2012-2013' '2013'\n",
      " '2013' '2012' '2013' '2011' '2014' '2014' '2013' '2012' '2014' '2014'\n",
      " '2014' '2013' '2013' '2012' '2012' '2014' '2014' '2014' '2012' '2012'\n",
      " '2014' '2014' '2013' '2012' '2015' '2015' '2014' '2015' '2014' '2014'\n",
      " '2014' '2015' '2013' '2012' '2014' '2015' '2014' '2015' '2014' '2014'\n",
      " '2015' '2014' '2014' '2012' '2014' '2017' '2015' '2014' '2015' '2014'\n",
      " '2014' '2014' '2014 volgens mij' '2014' '2013' '2014' '2014' '2014' '2014'\n",
      " '2014' '2013' '2014' '2014' '2014' '2014' '2014' '2013']\n"
     ]
    }
   ],
   "source": [
    "year_regex = re.compile(\"^(20\\\\d{2})\")\n",
    "filtered = np.vectorize(lambda x: year_regex.match(x))(matrix)\n",
    "filtered = filtered[filtered != np.array(None)]\n",
    "filtered = np.vectorize(lambda x: x.group())(filtered)\n",
    "print(filtered)"
   ]
  },
  {
   "cell_type": "markdown",
   "metadata": {},
   "source": [
    "The amount of records which are filtered out equate to:"
   ]
  },
  {
   "cell_type": "code",
   "execution_count": 112,
   "metadata": {},
   "outputs": [
    {
     "name": "stdout",
     "output_type": "stream",
     "text": [
      "69\n"
     ]
    }
   ],
   "source": [
    "print(matrix.size - filtered.size)"
   ]
  },
  {
   "cell_type": "markdown",
   "metadata": {},
   "source": [
    "Something which is notable to mention is that it is not important to filter out the months, due to the educational minor and educational major only starting twice in a school year. A semester never ends in the same year as when the first one started.\n",
    "\n",
    "I also want to mention that entries like \"three years ago\" are not that relevant to even bother with resolving, since they are a very small minority of records and they won't change much in the big picture. I also had to change the regular expression to capture only the first part of the string, since I don't want two entries for a school year like `2012-2013`."
   ]
  },
  {
   "cell_type": "markdown",
   "metadata": {},
   "source": [
    "## Cleaning\n",
    "\n",
    "The cleaning of the data is pretty simple. I only need to convert the string of text to a number and I can start sorting the data and counting their occurences."
   ]
  },
  {
   "cell_type": "code",
   "execution_count": 113,
   "metadata": {},
   "outputs": [
    {
     "ename": "ValueError",
     "evalue": "invalid literal for int() with base 10: '2012-2013'",
     "output_type": "error",
     "traceback": [
      "\u001b[0;31m---------------------------------------------------------------------------\u001b[0m",
      "\u001b[0;31mValueError\u001b[0m                                Traceback (most recent call last)",
      "\u001b[0;32m<ipython-input-113-677171609131>\u001b[0m in \u001b[0;36m<module>\u001b[0;34m()\u001b[0m\n\u001b[0;32m----> 1\u001b[0;31m \u001b[0mcleaned\u001b[0m \u001b[0;34m=\u001b[0m \u001b[0mnp\u001b[0m\u001b[0;34m.\u001b[0m\u001b[0mvectorize\u001b[0m\u001b[0;34m(\u001b[0m\u001b[0;32mlambda\u001b[0m \u001b[0mx\u001b[0m\u001b[0;34m:\u001b[0m \u001b[0mint\u001b[0m\u001b[0;34m(\u001b[0m\u001b[0mx\u001b[0m\u001b[0;34m)\u001b[0m\u001b[0;34m,\u001b[0m \u001b[0motypes\u001b[0m\u001b[0;34m=\u001b[0m\u001b[0;34m[\u001b[0m\u001b[0mnp\u001b[0m\u001b[0;34m.\u001b[0m\u001b[0muint16\u001b[0m\u001b[0;34m]\u001b[0m\u001b[0;34m)\u001b[0m\u001b[0;34m(\u001b[0m\u001b[0mfiltered\u001b[0m\u001b[0;34m)\u001b[0m\u001b[0;34m\u001b[0m\u001b[0m\n\u001b[0m\u001b[1;32m      2\u001b[0m \u001b[0mprint\u001b[0m\u001b[0;34m(\u001b[0m\u001b[0mcleaned\u001b[0m\u001b[0;34m)\u001b[0m\u001b[0;34m\u001b[0m\u001b[0m\n",
      "\u001b[0;32m/usr/lib/python3.6/site-packages/numpy/lib/function_base.py\u001b[0m in \u001b[0;36m__call__\u001b[0;34m(self, *args, **kwargs)\u001b[0m\n\u001b[1;32m   2732\u001b[0m             \u001b[0mvargs\u001b[0m\u001b[0;34m.\u001b[0m\u001b[0mextend\u001b[0m\u001b[0;34m(\u001b[0m\u001b[0;34m[\u001b[0m\u001b[0mkwargs\u001b[0m\u001b[0;34m[\u001b[0m\u001b[0m_n\u001b[0m\u001b[0;34m]\u001b[0m \u001b[0;32mfor\u001b[0m \u001b[0m_n\u001b[0m \u001b[0;32min\u001b[0m \u001b[0mnames\u001b[0m\u001b[0;34m]\u001b[0m\u001b[0;34m)\u001b[0m\u001b[0;34m\u001b[0m\u001b[0m\n\u001b[1;32m   2733\u001b[0m \u001b[0;34m\u001b[0m\u001b[0m\n\u001b[0;32m-> 2734\u001b[0;31m         \u001b[0;32mreturn\u001b[0m \u001b[0mself\u001b[0m\u001b[0;34m.\u001b[0m\u001b[0m_vectorize_call\u001b[0m\u001b[0;34m(\u001b[0m\u001b[0mfunc\u001b[0m\u001b[0;34m=\u001b[0m\u001b[0mfunc\u001b[0m\u001b[0;34m,\u001b[0m \u001b[0margs\u001b[0m\u001b[0;34m=\u001b[0m\u001b[0mvargs\u001b[0m\u001b[0;34m)\u001b[0m\u001b[0;34m\u001b[0m\u001b[0m\n\u001b[0m\u001b[1;32m   2735\u001b[0m \u001b[0;34m\u001b[0m\u001b[0m\n\u001b[1;32m   2736\u001b[0m     \u001b[0;32mdef\u001b[0m \u001b[0m_get_ufunc_and_otypes\u001b[0m\u001b[0;34m(\u001b[0m\u001b[0mself\u001b[0m\u001b[0;34m,\u001b[0m \u001b[0mfunc\u001b[0m\u001b[0;34m,\u001b[0m \u001b[0margs\u001b[0m\u001b[0;34m)\u001b[0m\u001b[0;34m:\u001b[0m\u001b[0;34m\u001b[0m\u001b[0m\n",
      "\u001b[0;32m/usr/lib/python3.6/site-packages/numpy/lib/function_base.py\u001b[0m in \u001b[0;36m_vectorize_call\u001b[0;34m(self, func, args)\u001b[0m\n\u001b[1;32m   2808\u001b[0m                       for a in args]\n\u001b[1;32m   2809\u001b[0m \u001b[0;34m\u001b[0m\u001b[0m\n\u001b[0;32m-> 2810\u001b[0;31m             \u001b[0moutputs\u001b[0m \u001b[0;34m=\u001b[0m \u001b[0mufunc\u001b[0m\u001b[0;34m(\u001b[0m\u001b[0;34m*\u001b[0m\u001b[0minputs\u001b[0m\u001b[0;34m)\u001b[0m\u001b[0;34m\u001b[0m\u001b[0m\n\u001b[0m\u001b[1;32m   2811\u001b[0m \u001b[0;34m\u001b[0m\u001b[0m\n\u001b[1;32m   2812\u001b[0m             \u001b[0;32mif\u001b[0m \u001b[0mufunc\u001b[0m\u001b[0;34m.\u001b[0m\u001b[0mnout\u001b[0m \u001b[0;34m==\u001b[0m \u001b[0;36m1\u001b[0m\u001b[0;34m:\u001b[0m\u001b[0;34m\u001b[0m\u001b[0m\n",
      "\u001b[0;32m<ipython-input-113-677171609131>\u001b[0m in \u001b[0;36m<lambda>\u001b[0;34m(x)\u001b[0m\n\u001b[0;32m----> 1\u001b[0;31m \u001b[0mcleaned\u001b[0m \u001b[0;34m=\u001b[0m \u001b[0mnp\u001b[0m\u001b[0;34m.\u001b[0m\u001b[0mvectorize\u001b[0m\u001b[0;34m(\u001b[0m\u001b[0;32mlambda\u001b[0m \u001b[0mx\u001b[0m\u001b[0;34m:\u001b[0m \u001b[0mint\u001b[0m\u001b[0;34m(\u001b[0m\u001b[0mx\u001b[0m\u001b[0;34m)\u001b[0m\u001b[0;34m,\u001b[0m \u001b[0motypes\u001b[0m\u001b[0;34m=\u001b[0m\u001b[0;34m[\u001b[0m\u001b[0mnp\u001b[0m\u001b[0;34m.\u001b[0m\u001b[0muint16\u001b[0m\u001b[0;34m]\u001b[0m\u001b[0;34m)\u001b[0m\u001b[0;34m(\u001b[0m\u001b[0mfiltered\u001b[0m\u001b[0;34m)\u001b[0m\u001b[0;34m\u001b[0m\u001b[0m\n\u001b[0m\u001b[1;32m      2\u001b[0m \u001b[0mprint\u001b[0m\u001b[0;34m(\u001b[0m\u001b[0mcleaned\u001b[0m\u001b[0;34m)\u001b[0m\u001b[0;34m\u001b[0m\u001b[0m\n",
      "\u001b[0;31mValueError\u001b[0m: invalid literal for int() with base 10: '2012-2013'"
     ]
    }
   ],
   "source": [
    "cleaned = np.vectorize(lambda x: int(x), otypes=[np.uint16])(filtered)\n",
    "print(cleaned)"
   ]
  },
  {
   "cell_type": "markdown",
   "metadata": {},
   "source": [
    "## Conclusions\n",
    "\n",
    "This column was a lot easier to filter, because the data was already in a pretty clear format. I also learned that the big picture is much easier to oversee when you are not starting to worry over smaller edge cases. As seen in the last part of the assignment, there were more edge cases where people would add a unit at the end of their numbers, which could very well be answers of great importance.\n",
    "\n",
    "### Possible biases\n",
    "\n",
    "* Data which is left out is text which describes how many years ago a person started their education."
   ]
  },
  {
   "cell_type": "code",
   "execution_count": null,
   "metadata": {},
   "outputs": [],
   "source": [
    "x, y = np.unique(cleaned, return_counts=True)\n",
    "\n",
    "plot.bar(x, y)\n",
    "plot.show()"
   ]
  },
  {
   "cell_type": "markdown",
   "metadata": {},
   "source": [
    "The graph should give you an indication as to why I did not count in the edge cases. If the edge cases were included, it would not have done that much to change the conclusion that most of the students started their educational program in the years between 2012 and 2015."
   ]
  }
 ],
 "metadata": {
  "kernelspec": {
   "display_name": "Python 3",
   "language": "python",
   "name": "python3"
  },
  "language_info": {
   "codemirror_mode": {
    "name": "ipython",
    "version": 3
   },
   "file_extension": ".py",
   "mimetype": "text/x-python",
   "name": "python",
   "nbconvert_exporter": "python",
   "pygments_lexer": "ipython3",
   "version": "3.6.2"
  }
 },
 "nbformat": 4,
 "nbformat_minor": 2
}
