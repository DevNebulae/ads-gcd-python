{
 "cells": [
  {
   "cell_type": "code",
   "execution_count": 279,
   "metadata": {
    "collapsed": true
   },
   "outputs": [],
   "source": [
    "import matplotlib.pyplot as plot\n",
    "import numpy as np\n",
    "import pandas as pd\n",
    "import re as re\n",
    "from scipy import stats"
   ]
  },
  {
   "cell_type": "code",
   "execution_count": 280,
   "metadata": {},
   "outputs": [
    {
     "name": "stdout",
     "output_type": "stream",
     "text": [
      "[nan nan nan nan 'infinity' 'A small loan of a million dollars' '100000'\n",
      " '10000000' '40000' 'Vlaamse frittekes' '1.000.000€' nan 'Googolplex Euros'\n",
      " '45000' '25.000' '2500 euro' 'trillions' '65.000 Euro' '€4.000' '€50.000'\n",
      " '50k' '40000' '50000' 'Eh no idea' 'milioni' '￥375000' 'enough' '60.000'\n",
      " '50000' '50.000 euro' '€120.000' '-1000 dollas' '€40.000,-' '120.000'\n",
      " '60000' '30000' 'A small loan of a million dollars' '7000 euros'\n",
      " 'between €4000 - €5000 a montha' 'a lot' '500000' '?' '120000 euros'\n",
      " '40.000€' nan '€35.000' 'No idea' '35000' '3500' '40000' '60 000' '70000'\n",
      " '70000' '36 000' '300k' '120 000' '10000' '$100000' '£100,000' nan '70000'\n",
      " '50k' \"Don't know\" '3000 euro monthly' '140' '100.000' 'x' '€65.000,-'\n",
      " 'A shit ton' '150k' '12_000_000' 'over 9000' '25000' '40k' '100.000' '50k'\n",
      " 'BIG MONEY' 'One hunderd million trillion dollars' '$2661' 'not enough'\n",
      " '€42.000'\n",
      " 'But you couldn’t, you didn’t, and now you’re paying the price, you goddamn idiot.'\n",
      " '3 nibbles' 'STAY AWAY FROM MY CHILDREN' nan '40000' '1000000'\n",
      " '€1.000.000' '120000' '?' '€500.000' '80000' '50.000' '2500' '70000'\n",
      " '2500' '20000 EUR' '50000 EUR' 'No idea' '4000 euro' '200.000' '70000'\n",
      " 'I wanna be a billionaire so freaking bad' '50000' '€70.000'\n",
      " \"I don't know\" '1.000.000 Euros' '50000' '60000' '40.000'\n",
      " 'Geen idee eigenlijk' '40000' '4k' '€40.000' 'A lot' '60.000' '€40.000'\n",
      " '1337000' '32000' '10000000e1000' '50k' 'Reasonable' '51k' '30000' nan\n",
      " '80000' '40000' nan '3 million' '50000000kk' '23403']\n"
     ]
    }
   ],
   "source": [
    "matrix = pd.read_csv(\"csv/data.csv\", quotechar='\"', skipinitialspace=True).as_matrix()\n",
    "matrix = matrix[:,10]\n",
    "print(matrix)"
   ]
  },
  {
   "cell_type": "markdown",
   "metadata": {},
   "source": [
    "# Disclaimer\n",
    "\n",
    "I manually filtered out empty rows at the beginning of the CSV file. It is still available in this repository under the name `data-original.csv`. These rows only contained two fields which were not relevant for the current columns I have filtered and cleaned."
   ]
  },
  {
   "cell_type": "markdown",
   "metadata": {},
   "source": [
    "# Your expected annual salary\n",
    "\n",
    "## Preparation\n",
    "The first step I undertook was to read the relavant column, the 11<sup>th</sup> column in this case, and to visualize all the data that I currently have. The next step was that I filtered out all numbers which do not have a value filled in (`nan`). I do not want to include these numbers, since I can hardly predict what they are supposed to be or what the person filling in the form would be satisfied with."
   ]
  },
  {
   "cell_type": "code",
   "execution_count": 281,
   "metadata": {},
   "outputs": [
    {
     "name": "stdout",
     "output_type": "stream",
     "text": [
      "['infinity' 'A small loan of a million dollars' '100000' '10000000' '40000'\n",
      " 'Vlaamse frittekes' '1.000.000€' 'Googolplex Euros' '45000' '25.000'\n",
      " '2500 euro' 'trillions' '65.000 Euro' '€4.000' '€50.000' '50k' '40000'\n",
      " '50000' 'Eh no idea' 'milioni' '￥375000' 'enough' '60.000' '50000'\n",
      " '50.000 euro' '€120.000' '-1000 dollas' '€40.000,-' '120.000' '60000'\n",
      " '30000' 'A small loan of a million dollars' '7000 euros'\n",
      " 'between €4000 - €5000 a montha' 'a lot' '500000' '?' '120000 euros'\n",
      " '40.000€' '€35.000' 'No idea' '35000' '3500' '40000' '60 000' '70000'\n",
      " '70000' '36 000' '300k' '120 000' '10000' '$100000' '£100,000' '70000'\n",
      " '50k' \"Don't know\" '3000 euro monthly' '140' '100.000' 'x' '€65.000,-'\n",
      " 'A shit ton' '150k' '12_000_000' 'over 9000' '25000' '40k' '100.000' '50k'\n",
      " 'BIG MONEY' 'One hunderd million trillion dollars' '$2661' 'not enough'\n",
      " '€42.000'\n",
      " 'But you couldn’t, you didn’t, and now you’re paying the price, you goddamn idiot.'\n",
      " '3 nibbles' 'STAY AWAY FROM MY CHILDREN' '40000' '1000000' '€1.000.000'\n",
      " '120000' '?' '€500.000' '80000' '50.000' '2500' '70000' '2500' '20000 EUR'\n",
      " '50000 EUR' 'No idea' '4000 euro' '200.000' '70000'\n",
      " 'I wanna be a billionaire so freaking bad' '50000' '€70.000'\n",
      " \"I don't know\" '1.000.000 Euros' '50000' '60000' '40.000'\n",
      " 'Geen idee eigenlijk' '40000' '4k' '€40.000' 'A lot' '60.000' '€40.000'\n",
      " '1337000' '32000' '10000000e1000' '50k' 'Reasonable' '51k' '30000' '80000'\n",
      " '40000' '3 million' '50000000kk' '23403']\n"
     ]
    }
   ],
   "source": [
    "matrix = matrix[~pd.isnull(matrix)]\n",
    "print(matrix)"
   ]
  },
  {
   "cell_type": "markdown",
   "metadata": {},
   "source": [
    "## Filtering\n",
    "\n",
    "The next step is to filter out all meaningful data. From a quick glance, I figured that the most meaningful numbers would follow the following formats:\n",
    "\n",
    "* Currency symbol - numbers with separators - optionally ,-;\n",
    "* Numbers with seperators - optionally order of magnitude.\n",
    "\n",
    "I am going to abandon any salaries which are spelled out, since not a single person in this data set submitted a sane number written out. Furthermore, monthly salaries are too much work to detect and they do not contribute to that many entries and I chose to interpret the salaries as Euros per year, since the demographic which filled out the form comes from the Netherlands."
   ]
  },
  {
   "cell_type": "code",
   "execution_count": 282,
   "metadata": {},
   "outputs": [
    {
     "name": "stdout",
     "output_type": "stream",
     "text": [
      "['100000' '10000000' '40000' '1.000.000' '45000' '25.000' '2500' '65.000'\n",
      " '€4.000' '€50.000' '50k' '40000' '50000' '￥375000' '60.000' '50000'\n",
      " '50.000' '€120.000' '€40.000,' '120.000' '60000' '30000' '7000' '500000'\n",
      " '120000' '40.000' '€35.000' '35000' '3500' '40000' '60' '70000' '70000'\n",
      " '36' '300k' '120' '10000' '$100000' '70000' '50k' '3000' '140' '100.000'\n",
      " '€65.000,' '150k' '12' '25000' '40k' '100.000' '50k' '$2661' '€42.000' '3'\n",
      " '40000' '1000000' '€1.000.000' '120000' '€500.000' '80000' '50.000' '2500'\n",
      " '70000' '2500' '20000' '50000' '4000' '200.000' '70000' '50000' '€70.000'\n",
      " '1.000.000' '50000' '60000' '40.000' '40000' '4k' '€40.000' '60.000'\n",
      " '€40.000' '1337000' '32000' '10000000' '50k' '51k' '30000' '80000' '40000'\n",
      " '3' '50000000k' '23403']\n"
     ]
    }
   ],
   "source": [
    "salary_regex = re.compile(\"^[€￥$]?([\\\\d\\\\.\\\\,]+[kmb]?)\")\n",
    "filtered = np.vectorize(lambda x: salary_regex.match(x))(matrix)\n",
    "filtered = filtered[filtered != np.array(None)]\n",
    "filtered = np.vectorize(lambda x: x.group())(filtered)\n",
    "print(filtered)"
   ]
  },
  {
   "cell_type": "markdown",
   "metadata": {},
   "source": [
    "Now that I have reasonable figures to begin working with, I want to estimate how much data I have lost. With the automatic filtering, I lost the following amount of records:"
   ]
  },
  {
   "cell_type": "code",
   "execution_count": 283,
   "metadata": {},
   "outputs": [
    {
     "data": {
      "text/plain": [
       "31"
      ]
     },
     "execution_count": 283,
     "metadata": {},
     "output_type": "execute_result"
    }
   ],
   "source": [
    "matrix.size - filtered.size"
   ]
  },
  {
   "cell_type": "markdown",
   "metadata": {},
   "source": [
    "When manually sorting these records, which is possible due to the relatively small size of the data set, I came to the conclusion that around 31 entries are utterly useless. I can conclude that my code does a good job of filtering nonsensical answers.\n",
    "\n",
    "## Sanitization\n",
    "\n",
    "The time has now come to start converting the answers. One thing I noticed is that some values are below `10.000`. These values could illustrate that they're monthly salaries or that some people expect to earn that amount of money in a year. Since the rent in cities are extremely high, I am going to assume that they're monthly salaries if they are below `8.000` and greater than `2.000`.\n",
    "\n",
    "First, I want to strip all values from their currency symbols and other syntax. "
   ]
  },
  {
   "cell_type": "code",
   "execution_count": 284,
   "metadata": {},
   "outputs": [
    {
     "name": "stdout",
     "output_type": "stream",
     "text": [
      "['100000' '10000000' '40000' '1000000' '45000' '25000' '2500' '65000'\n",
      " '4000' '50000' '50k' '40000' '50000' '375000' '60000' '50000' '50000'\n",
      " '120000' '40000' '120000' '60000' '30000' '7000' '500000' '120000' '40000'\n",
      " '35000' '35000' '3500' '40000' '60' '70000' '70000' '36' '300k' '120'\n",
      " '10000' '100000' '70000' '50k' '3000' '140' '100000' '65000' '150k' '12'\n",
      " '25000' '40k' '100000' '50k' '2661' '42000' '3' '40000' '1000000'\n",
      " '1000000' '120000' '500000' '80000' '50000' '2500' '70000' '2500' '20000'\n",
      " '50000' '4000' '200000' '70000' '50000' '70000' '1000000' '50000' '60000'\n",
      " '40000' '40000' '4k' '40000' '60000' '40000' '1337000' '32000' '10000000'\n",
      " '50k' '51k' '30000' '80000' '40000' '3' '50000000k' '23403']\n"
     ]
    }
   ],
   "source": [
    "filtered = np.char.strip(filtered, \"€￥$\")\n",
    "filtered = np.char.replace(filtered, \".\", \"\")\n",
    "filtered = np.char.replace(filtered, \",\", \"\")\n",
    "print(filtered)"
   ]
  },
  {
   "cell_type": "markdown",
   "metadata": {},
   "source": [
    "Now, start multiplying all values by their units. Some values have a suffix of `k`, which means kilo or `1.000`. These values need to be stripped off of their unit, multiplied by the appropiate amount and placed back into the `array`."
   ]
  },
  {
   "cell_type": "code",
   "execution_count": 285,
   "metadata": {},
   "outputs": [
    {
     "name": "stdout",
     "output_type": "stream",
     "text": [
      "[    100000   10000000      40000    1000000      45000      25000\n",
      "      30000      65000      48000      50000      50000      40000\n",
      "      50000     375000      60000      50000      50000     120000\n",
      "      40000     120000      60000      30000      84000     500000\n",
      "     120000      40000      35000      35000      42000      40000\n",
      "         60      70000      70000         36     300000        120\n",
      "      10000     100000      70000      50000      36000        140\n",
      "     100000      65000     150000         12      25000      40000\n",
      "     100000      50000      31932      42000          3      40000\n",
      "    1000000    1000000     120000     500000      80000      50000\n",
      "      30000      70000      30000      20000      50000      48000\n",
      "     200000      70000      50000      70000    1000000      50000\n",
      "      60000      40000      40000      48000      40000      60000\n",
      "      40000    1337000      32000   10000000      50000      51000\n",
      "      30000      80000      40000          3 2755359744      23403]\n"
     ]
    }
   ],
   "source": [
    "def unit_conversion(x):\n",
    "    if (x.endswith('k')):\n",
    "        return int(x[:-1]) * 1000\n",
    "    else:\n",
    "        return x\n",
    "    \n",
    "def monthly_to_yearly(x):\n",
    "    if ((x >= 2000) and (x <= 8000)):\n",
    "        return x * 12\n",
    "    else:\n",
    "        return x\n",
    "    \n",
    "sanitized = np.vectorize(unit_conversion, otypes=[np.uint32])(filtered)\n",
    "sanitized = np.vectorize(monthly_to_yearly, otypes=[np.uint32])(sanitized)\n",
    "print(sanitized)"
   ]
  },
  {
   "cell_type": "markdown",
   "metadata": {},
   "source": [
    "Something that became immediately apparent is that the majority of the salaries form a great average. However, there are quite a few outliers. For example, some people originally filled in `3` and some people filled in ludicrous numbers like `2.999.545.856` which is nonsense. To illustrate this, see the following graph:"
   ]
  },
  {
   "cell_type": "code",
   "execution_count": 286,
   "metadata": {},
   "outputs": [
    {
     "data": {
      "image/png": "[encoded data removed]",
      "text/plain": [
       "<matplotlib.figure.Figure at 0x7fb341a12c50>"
      ]
     },
     "metadata": {},
     "output_type": "display_data"
    }
   ],
   "source": [
    "x = range(1, sanitized.size + 1)\n",
    "y = sanitized\n",
    "\n",
    "plot.scatter(x, y)\n",
    "plot.show()"
   ]
  },
  {
   "cell_type": "markdown",
   "metadata": {},
   "source": [
    "As you can see, the graph is _all over the place_. The peek of the graph is almost at 1 \\* 10<sup>19</sup>. Which is relatively close to the amount of stars in the observable universe (1 \\* 10<sup>21</sup>). I need to do another sanitation to ban these outliers. I can't calculate the average or the median, because there are too many (big) outliers as shown in the following calculation:"
   ]
  },
  {
   "cell_type": "code",
   "execution_count": 287,
   "metadata": {},
   "outputs": [
    {
     "data": {
      "text/plain": [
       "30960705.033333335"
      ]
     },
     "execution_count": 287,
     "metadata": {},
     "output_type": "execute_result"
    }
   ],
   "source": [
    "np.average(sanitized)"
   ]
  },
  {
   "cell_type": "markdown",
   "metadata": {},
   "source": [
    "For a more correct average, I am going to calculate the trimmed mean. What this does is that it removes a percentage of the highest- and lowest values and then calculates the average."
   ]
  },
  {
   "cell_type": "code",
   "execution_count": 288,
   "metadata": {},
   "outputs": [
    {
     "name": "stdout",
     "output_type": "stream",
     "text": [
      "72726.875\n",
      "55111.1111111\n",
      "51500.0\n",
      "50000.0\n"
     ]
    }
   ],
   "source": [
    "print(stats.trim_mean(sanitized, 0.1))\n",
    "print(stats.trim_mean(sanitized, 0.2))\n",
    "print(stats.trim_mean(sanitized, 0.3))\n",
    "print(stats.trim_mean(sanitized, 0.4))"
   ]
  },
  {
   "cell_type": "markdown",
   "metadata": {},
   "source": [
    "As you can see in the calculations above, the more we trim off of both sides, we get a more moderate vision of what everybody is expecting to earn in ten years. However, keep in mind that the more you trim, the less values you have. In the example above, if we trim off 40% off of each side, we only keep 20% of the original values. This equates to the following approximate values you can work with:"
   ]
  },
  {
   "cell_type": "code",
   "execution_count": 289,
   "metadata": {},
   "outputs": [
    {
     "data": {
      "text/plain": [
       "18"
      ]
     },
     "execution_count": 289,
     "metadata": {},
     "output_type": "execute_result"
    }
   ],
   "source": [
    "round(sanitized.size * 0.2)"
   ]
  },
  {
   "cell_type": "markdown",
   "metadata": {},
   "source": [
    "To keep the sample size at a more approximate size, I decided to work with the a trimmed mean of 20%, since the difference between the last three values is not that big. If we plot the last the remaining 60% of values, the following plot remains:"
   ]
  },
  {
   "cell_type": "code",
   "execution_count": 290,
   "metadata": {},
   "outputs": [
    {
     "data": {
      "image/png": "[encoded data removed]",
      "text/plain": [
       "<matplotlib.figure.Figure at 0x7fb341a05e10>"
      ]
     },
     "metadata": {},
     "output_type": "display_data"
    }
   ],
   "source": [
    "percentage = 0.3\n",
    "n = round(sanitized.size * percentage)\n",
    "cleaned = np.sort(sanitized)[n:-n]\n",
    "\n",
    "x = range(1, cleaned.size + 1)\n",
    "y = cleaned\n",
    "\n",
    "plot.scatter(x, y)\n",
    "plot.show()"
   ]
  },
  {
   "cell_type": "markdown",
   "metadata": {},
   "source": [
    "## Conclusions\n",
    "\n",
    "In my opinion, this graph looks a lot more realistic as to what people expect to earn in ten years' time. Some values are still on the low side, but I think that they provide a good counter balance to the upper values of what most people think. The data which this column offered was not missing at random (NMAR), but it had a lot of inconsistensies, memes and other forms of weird input. I had to do a lot of things on intuition and I had to sometimes trust my gut feelings as to what the values meant. This also means that a personal bias could have been at play which influenced the outcome of the results.\n",
    "\n",
    "### Possible biases\n",
    "\n",
    "* Converting all currencies to Euros;\n",
    "* Assuming that values between 2000 and 8000 are monthly salaries;\n",
    "* Throwing away values without any numbers."
   ]
  }
 ],
 "metadata": {
  "kernelspec": {
   "display_name": "Python 3",
   "language": "python",
   "name": "python3"
  },
  "language_info": {
   "codemirror_mode": {
    "name": "ipython",
    "version": 3
   },
   "file_extension": ".py",
   "mimetype": "text/x-python",
   "name": "python",
   "nbconvert_exporter": "python",
   "pygments_lexer": "ipython3",
   "version": "3.6.2"
  }
 },
 "nbformat": 4,
 "nbformat_minor": 2
}
