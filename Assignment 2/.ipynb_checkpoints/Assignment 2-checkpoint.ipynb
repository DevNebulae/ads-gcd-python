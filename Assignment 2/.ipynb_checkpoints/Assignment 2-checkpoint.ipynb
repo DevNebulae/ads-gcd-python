{
 "cells": [
  {
   "cell_type": "code",
   "execution_count": 6,
   "metadata": {
    "collapsed": true
   },
   "outputs": [],
   "source": [
    "import numpy as np\n",
    "import pandas as pd"
   ]
  },
  {
   "cell_type": "code",
   "execution_count": 7,
   "metadata": {},
   "outputs": [
    {
     "name": "stdout",
     "output_type": "stream",
     "text": [
      "[['Algeria' 'Al Qudra' 'UAE' ..., nan 'Done'\n",
      "  'Al Qudra Holding is a joint-stock company established in Abu Dhabi in 2005. In February 2008, the company told Le Matin that it had acquired concessions covering 31,000 ha of agricultural lands in Algeria where it intends to produce potatoes, olives and dairy. It also said that it was planning to set up a joint venture with Moroccan investors to produce olive oil on 14,000 ha in Morocco. In September 2009, The National reported that Al Qudra was considering buying land in Pakistan, Syria, Vietnam, Sudan and India to increase its land holdings to 400,000 ha.']\n",
      " ['Angola' 'CAMC Engineering Co. Ltd' 'China' ..., 'US$77 million' 'Done '\n",
      "  \"CAMCE is a subsidiary of the China National Machinery Industry Corporation. In April 2011, the Angolan Press Agency reported that the Angolan government had approved CAMCE's proposed project to construct a rice mill in Longa and establish a 1,500-ha pilot rice farm in the area. China National Development Bank will be providing CAMCE with a credit line for the project.\"]\n",
      " ['Angola' 'ENI' 'Italy' ..., nan 'In process'\n",
      "  \"The project is a joint venture between Sonangol, an Angolan state-owed company responsible for the exploration, production and transportation of hydrocarbons in Angola, and ENI, one of the world's largest oil companies. In December 2011, the two companies signed an agreement for the execution of a pilot project in food and biodiesel production.\"]\n",
      " ..., \n",
      " ['Zambia' 'Chayton Capital' 'UK' ..., 'US$85 million ' 'Done'\n",
      "  'Chayton Capital is a US$300-million London-based private equity fund created in 2006 by former Goldman Sachs director Neil Crowder, to set up agribusiness ventures in six African countries. Chayton has begun with Zambia, where it has acquired a 14-year lease on 20,000 ha  in Mkushi, which it intends to aggregate into a single farm under its \"Chobe Agrivision\" project. The project is backed by US$50 million in political risk insurance from the World Bank.']\n",
      " ['Zambia' 'Emvest' 'UK' ..., nan 'Done'\n",
      "  'UK private equity firm Emergent Asset Management launched an African Agricultural Land Fund in 2007, and has since acquired at least 30,000 ha in South Africa, Zambia, Mozambique, Swaziland and Zimbabwe. Emvest was set up as a joint venture between Emergent and South African agribusiness company RusselStone to put African Agricultural into operation. In Zambia, EmVest acquired the Kalonga Estates on the banks of the Zambezi river, with a 99-year lease agreement from the government. The estate has a 188-ha banana plantation and 325 ha of land cultivated with wheat, maize and chillies. Emvest intends to use the remaining 2,000 ha within the estate for cattle ranching, commercial crops and tourism.']\n",
      " ['Zimbabawe' 'Emvest' 'UK' ..., nan 'Done'\n",
      "  'UK private equity firm Emergent Asset Management launched an African Agricultural Land Fund in 2007, and has since acquired at least 30,000 ha in South Africa, Zambia, Mozambique, Swaziland and Zimbabwe. Emvest was set up as a joint venture between Emergent and South African agribusiness company RusselStone to put African Agricultural into operation. In 2008, the African Land Fund acquired a 40% stake in the Zimbabwean company Ariston Holdings Limited, giving it ownership of four farms covering a total of 9,913 ha.']]\n"
     ]
    }
   ],
   "source": [
    "data = pd.read_csv(\"csv/data-original.csv\", quotechar='\"', skipinitialspace=True)\n",
    "print(data)"
   ]
  }
 ],
 "metadata": {
  "kernelspec": {
   "display_name": "Python 3",
   "language": "python",
   "name": "python3"
  },
  "language_info": {
   "codemirror_mode": {
    "name": "ipython",
    "version": 3
   },
   "file_extension": ".py",
   "mimetype": "text/x-python",
   "name": "python",
   "nbconvert_exporter": "python",
   "pygments_lexer": "ipython3",
   "version": "3.6.2"
  }
 },
 "nbformat": 4,
 "nbformat_minor": 2
}
