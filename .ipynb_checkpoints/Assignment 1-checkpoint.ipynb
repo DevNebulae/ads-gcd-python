{
 "cells": [
  {
   "cell_type": "code",
   "execution_count": 9,
   "metadata": {
    "collapsed": true
   },
   "outputs": [],
   "source": [
    "import numpy as np\n",
    "import pandas as pd"
   ]
  },
  {
   "cell_type": "code",
   "execution_count": 11,
   "metadata": {},
   "outputs": [
    {
     "name": "stdout",
     "output_type": "stream",
     "text": [
      "[nan nan nan nan 'infinity' 'A small loan of a million dollars' '100000'\n",
      " '10000000' '40000' 'Vlaamse frittekes' '1.000.000€' nan 'Googolplex Euros'\n",
      " '45000' '25.000' '2500 euro' 'trillions' '65.000 Euro' '€4.000' '€50.000'\n",
      " '50k' '40000' '50000' 'Eh no idea' 'milioni' '￥375000' 'enough' '60.000'\n",
      " '50000' '50.000 euro' '€120.000' '-1000 dollas' '€40.000,-' '120.000'\n",
      " '60000' '30000' 'A small loan of a million dollars' '7000 euros'\n",
      " 'between €4000 - €5000 a montha' 'a lot' '500000' '?' '120000 euros'\n",
      " '40.000€' nan '€35.000' 'No idea' '35000' '3500' '40000' '60 000' '70000'\n",
      " '70000' '36 000' '300k' '120 000' '10000' '$100000' '£100,000' nan '70000'\n",
      " '50k' \"Don't know\" '3000 euro monthly' '140' '100.000' 'x' '€65.000,-'\n",
      " 'A shit ton' '150k' '12_000_000' 'over 9000' '25000' '40k' '100.000' '50k'\n",
      " 'BIG MONEY' 'One hunderd million trillion dollars' '$2661' 'not enough'\n",
      " '€42.000'\n",
      " 'But you couldn’t, you didn’t, and now you’re paying the price, you goddamn idiot.'\n",
      " '3 nibbles' 'STAY AWAY FROM MY CHILDREN' nan '40000' '1000000'\n",
      " '€1.000.000' '120000' '?' '€500.000' '80000' '50.000' '2500' '70000'\n",
      " '2500' '20000 EUR' '50000 EUR' 'No idea' '4000 euro' '200.000' '70000'\n",
      " 'I wanna be a billionaire so freaking bad' '50000' '€70.000'\n",
      " \"I don't know\" '1.000.000 Euros' '50000' '60000' '40.000'\n",
      " 'Geen idee eigenlijk' '40000' '4k' '€40.000' 'A lot' '60.000' '€40.000'\n",
      " '1337000' '32000' '10000000e1000' '50k' 'Reasonable' '51k' '30000' nan\n",
      " '80000' '40000' nan '3 million' '50000000kk' '23403']\n"
     ]
    }
   ],
   "source": [
    "matrix = pd.read_csv(\"csv/data.csv\", quotechar='\"', skipinitialspace=True).as_matrix()\n",
    "print(matrix[:,10])"
   ]
  },
  {
   "cell_type": "markdown",
   "metadata": {},
   "source": [
    "# Disclaimer\n",
    "\n",
    "I manually filtered out empty rows at the beginning of the CSV file. It is still available in this repository under the name `data-original.csv`."
   ]
  }
 ],
 "metadata": {
  "kernelspec": {
   "display_name": "Python 3",
   "language": "python",
   "name": "python3"
  },
  "language_info": {
   "codemirror_mode": {
    "name": "ipython",
    "version": 3
   },
   "file_extension": ".py",
   "mimetype": "text/x-python",
   "name": "python",
   "nbconvert_exporter": "python",
   "pygments_lexer": "ipython3",
   "version": "3.6.2"
  }
 },
 "nbformat": 4,
 "nbformat_minor": 2
}
